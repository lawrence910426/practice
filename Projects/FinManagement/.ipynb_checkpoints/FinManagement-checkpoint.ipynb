{
  "nbformat": 4,
  "nbformat_minor": 0,
  "metadata": {
    "colab": {
      "name": "FinManagement.ipynb",
      "provenance": [],
      "collapsed_sections": []
    },
    "kernelspec": {
      "name": "python3",
      "display_name": "Python 3"
    }
  },
  "cells": [
    {
      "cell_type": "markdown",
      "metadata": {
        "id": "xocUsU-S82nR"
      },
      "source": [
        "Since I am a conservative investor, decreasing volatility is more important than profitting. Thus, Sarah should suggest me to diversify my portfolio to decrease volatility instead of put all the eggs in the same basket. By investing on multiple financial products with optimal weights, volatility could be greatly eliminated, which is the goal that conservative investors are looking for."
      ]
    },
    {
      "cell_type": "markdown",
      "metadata": {
        "id": "9ggGiAlL9dCk"
      },
      "source": [
        "Investing 100% on bond might not be the best alternative. If inevsting 100% on bond is not on the C.M.L. (Capital Market Line), the portfolio could be more profittable or less volatile."
      ]
    },
    {
      "cell_type": "code",
      "metadata": {
        "colab": {
          "base_uri": "https://localhost:8080/",
          "height": 295
        },
        "id": "wERVrg0bM50r",
        "outputId": "3c15daa2-7eab-4aec-cc38-5318db930633"
      },
      "source": [
        "import matplotlib.pyplot as plt\n",
        "\n",
        "stock_dev, stock_ret = 0.2423, 0.1215\n",
        "bond_dev, bond_ret= 0.0996, 0.0693\n",
        "cor = 0.15\n",
        "covar = cor * stock_dev * bond_dev\n",
        "\n",
        "covariance = lambda S, B: (S ** 2) * (stock_dev ** 2) + (B ** 2) * (bond_dev ** 2) + 2 * S * B * covar\n",
        "field, denominator = 1000, 100\n",
        "\n",
        "Cov = [covariance(i / denominator, 1 - i / denominator) for i in range(-field, field + 1)]\n",
        "Ret = [stock_ret * i / denominator + bond_ret * (1 - i / denominator) for i in range(-field, field + 1)]\n",
        "\n",
        "plt.plot(Cov, Ret, label=\"Opportunity set\")\n",
        "plt.plot()\n",
        "\n",
        "plt.xlabel(\"Covariance\")\n",
        "plt.ylabel(\"Return\")\n",
        "plt.title(\"Opportunity set (feasible set)\")\n",
        "plt.legend()\n",
        "plt.show()\n"
      ],
      "execution_count": null,
      "outputs": [
        {
          "output_type": "display_data",
          "data": {
            "image/png": "[encoded data removed]",
            "text/plain": [
              "<Figure size 432x288 with 1 Axes>"
            ]
          },
          "metadata": {
            "tags": [],
            "needs_background": "light"
          }
        }
      ]
    },
    {
      "cell_type": "code",
      "metadata": {
        "colab": {
          "base_uri": "https://localhost:8080/"
        },
        "id": "Uz0IfgJ2Ue6P",
        "outputId": "9f28b327-85be-47c7-fea1-31a411e8eed3"
      },
      "source": [
        "import math\n",
        "\n",
        "stock_dev, stock_ret = 0.2423, 0.1215\n",
        "bond_dev, bond_ret= 0.0996, 0.0693\n",
        "cor = 0.15\n",
        "covar = cor * stock_dev * bond_dev\n",
        "\n",
        "covariance = lambda S, B: (S ** 2) * (stock_dev ** 2) + (B ** 2) * (bond_dev ** 2) + 2 * S * B * covar\n",
        "\n",
        "full_bond = covariance(0, 1)\n",
        "\n",
        "# A * x^2 * B * x + C = 0 #\n",
        "A = stock_dev ** 2 + bond_dev ** 2 - 2 * covar\n",
        "B = 2 * covar - 2 * bond_dev ** 2\n",
        "C = bond_dev ** 2 - full_bond\n",
        "\n",
        "# (-B - math.sqrt(B ** 2 - 4 * A * C)) / A / 2\n",
        "# The above solution is approximatly zero, which is not the solution we are looking for.\n",
        "\n",
        "sol = (-B + math.sqrt(B ** 2 - 4 * A * C)) / A / 2\n",
        "print(f\"The portfolio weights are: (Bond, Stock) = ({1 - sol}, {sol})\")"
      ],
      "execution_count": null,
      "outputs": [
        {
          "output_type": "stream",
          "text": [
            "The portfolio weights are: (Bond, Stock) = (0.7947468107181671, 0.20525318928183287)\n"
          ],
          "name": "stdout"
        }
      ]
    },
    {
      "cell_type": "code",
      "metadata": {
        "colab": {
          "base_uri": "https://localhost:8080/"
        },
        "id": "ACrna_eUbhF1",
        "outputId": "47f2ffb0-5855-43ea-fda3-b70840fedf82"
      },
      "source": [
        "import math\n",
        "\n",
        "stock_dev, stock_ret = 0.2423, 0.1215\n",
        "bond_dev, bond_ret= 0.0996, 0.0693\n",
        "cor = 0.15\n",
        "covar = cor * stock_dev * bond_dev\n",
        "\n",
        "covariance = lambda S, B: (S ** 2) * (stock_dev ** 2) + (B ** 2) * (bond_dev ** 2) + 2 * S * B * covar\n",
        "\n",
        "full_bond = covariance(0, 1)\n",
        "\n",
        "# A * x^2 * B * x + C = 0 #\n",
        "A = stock_dev ** 2 + bond_dev ** 2 - 2 * covar\n",
        "B = 2 * covar - 2 * bond_dev ** 2\n",
        "C = bond_dev ** 2 - full_bond\n",
        "\n",
        "sol = (-B) / 2 / A\n",
        "stock, bond = sol, 1 - sol\n",
        "ret, dev = stock_ret * stock + bond_ret * bond, math.sqrt(covariance(stock, bond))\n",
        "\n",
        "print(f\"The weights are: (Stock, Bond) = ({stock}, {bond})\")\n",
        "print(f\"The expected return is: {ret}\")\n",
        "print(f\"The expected deviation is: {dev}\")"
      ],
      "execution_count": null,
      "outputs": [
        {
          "output_type": "stream",
          "text": [
            "The weights are: (Stock, Bond) = (0.10262659464091643, 0.8973734053590836)\n",
            "The expected return is: 0.07465710824025584\n",
            "The expected deviation is: 0.0962994918662424\n"
          ],
          "name": "stdout"
        }
      ]
    },
    {
      "cell_type": "markdown",
      "metadata": {
        "id": "4iTj3XUoRb8i"
      },
      "source": [
        "The efficient set locates on the up-right corner of the MVP. By finding the M.V.P. (minimum variance portfolio), the efficient set could be found easily."
      ]
    },
    {
      "cell_type": "code",
      "metadata": {
        "colab": {
          "base_uri": "https://localhost:8080/"
        },
        "id": "blao6TaE6NGD",
        "outputId": "a6868eef-3f43-431e-cb36-a4afd89cd147"
      },
      "source": [
        "import math\n",
        "import numpy as np\n",
        "from scipy.optimize import minimize\n",
        "\n",
        "stock_dev, stock_ret = 0.2423, 0.1215\n",
        "bond_dev, bond_ret= 0.0996, 0.0693\n",
        "cor = 0.15\n",
        "covar = cor * stock_dev * bond_dev\n",
        "risk_free = 0.032\n",
        "\n",
        "covariance = lambda S, B: (S ** 2) * (stock_dev ** 2) + (B ** 2) * (bond_dev ** 2) + 2 * S * B * covar\n",
        "\n",
        "def Sharpe(x):\n",
        "  ret = stock_ret * x + bond_ret * (1 - x)\n",
        "  cov = x ** 2 * stock_dev ** 2 + (1 - x) ** 2 * bond_dev ** 2 + 2 * x * (1 - x) * covar\n",
        "  dev = math.sqrt(cov)\n",
        "  return (ret - risk_free) / dev\n",
        "\n",
        "def f(x):\n",
        "  x = x[0]\n",
        "  return -Sharpe(x)\n",
        "\n",
        "# Too lazy to evaluate the derivative #\n",
        "opt = minimize(f, np.zeros(1))\n",
        "sol = opt.x[0]\n",
        "\n",
        "print(f\"The weights of optimal sharpe portfolio are: (Stock, Bond) = ({sol}, {1 - sol})\")\n",
        "print(f\"The expected return of optimal sharpe portfolio is: {sol * stock_ret + (1 - sol) * bond_ret}\")\n",
        "print(f\"The standard deviation of optimal sharpe portfolio is: {covariance(sol, 1 - sol)}\")\n",
        "print(f\"The sharpe ratios are: (Maximum, Stock, Bond) = ({Sharpe(sol)}, {Sharpe(1)}, {Sharpe(0)})\")"
      ],
      "execution_count": 26,
      "outputs": [
        {
          "output_type": "stream",
          "text": [
            "The weights of optimal sharpe portfolio are: (Stock, Bond) = (0.2874822242411271, 0.7125177757588729)\n",
            "The expected return of optimal sharpe portfolio is: 0.08430657210538683\n",
            "The standard deviation of optimal sharpe portfolio is: 0.011371370693324603\n",
            "The sharpe ratios are: (Maximum, Stock, Bond) = (0.4905122422151617, 0.3693768056128766, 0.3744979919678715)\n"
          ],
          "name": "stdout"
        }
      ]
    },
    {
      "cell_type": "markdown",
      "metadata": {
        "id": "kH2J-ppvfTWI"
      },
      "source": [
        "The sharpe ratio of optimal portfolio is greater than both full bond portfolio and full stock portffolio, which represents the optimal portfolio could benefit the investor more than full bond/stock portfolio.\n",
        "\n",
        "It's obvious that every point on C.M.L. has the same Sharpe ratio and the slope of C.M.L. is the optimal Sharpe ratio. The only intersection point of feasible set and C.M.L. is the market portfolio, that is, the optimal sharpe ratio portfolio of feasible set is the market portfolio."
      ]
    }
  ]
}